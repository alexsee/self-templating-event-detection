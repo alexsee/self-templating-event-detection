{
 "cells": [
  {
   "cell_type": "markdown",
   "metadata": {},
   "source": [
    "# 2. Event Detection\n",
    "\n",
    "This notebook contains example code for detecting events from a time series given a template."
   ]
  },
  {
   "cell_type": "code",
   "execution_count": null,
   "metadata": {},
   "outputs": [],
   "source": [
    "from src.example_data import sensor_data_example\n",
    "\n",
    "import src.twopass as tpass\n",
    "import numpy as np"
   ]
  },
  {
   "cell_type": "markdown",
   "metadata": {},
   "source": [
    "## 2.1. Similarity Search & 2.2. Event Identification\n",
    "The following examples show the similarity search methods given a template."
   ]
  },
  {
   "cell_type": "code",
   "execution_count": 2,
   "metadata": {},
   "outputs": [
    {
     "name": "stdout",
     "output_type": "stream",
     "text": [
      "[10, 15, 17, 17, 18, 17, 17]\n",
      "[5, 6, 5, 5, 4, 6, 10, 15, 17, 18, 18, 17, 18, 4, 3, 4, 5, 3, 5, 4, 3, 2, 3, 4, 3, 10, 16, 17, 17, 18, 17, 17, 16, 4, 3, 2, 4, 5, 4, 4, 5]\n"
     ]
    }
   ],
   "source": [
    "# barycenter averaged template\n",
    "template_b_averaged = [10, 15, 17, 17, 18, 17, 17]\n",
    "print(template_b_averaged)\n",
    "print(sensor_data_example)"
   ]
  },
  {
   "cell_type": "code",
   "execution_count": 3,
   "metadata": {},
   "outputs": [],
   "source": [
    "# convert to numpy arrays\n",
    "np_template_b_averaged = np.array(template_b_averaged).astype(np.float64)\n",
    "np_sensor_data_example = np.array(sensor_data_example).astype(np.float64)"
   ]
  },
  {
   "cell_type": "markdown",
   "metadata": {},
   "source": [
    "### MASS algorithm"
   ]
  },
  {
   "cell_type": "code",
   "execution_count": 4,
   "metadata": {},
   "outputs": [
    {
     "data": {
      "text/plain": [
       "[(25, 32), (6, 13)]"
      ]
     },
     "execution_count": 4,
     "metadata": {},
     "output_type": "execute_result"
    }
   ],
   "source": [
    "# compute MASS algorithm events with dynamic heuristics\n",
    "tpass.matrixChangepoints(np_template_b_averaged, np_sensor_data_example, mode=\"dynamic\")"
   ]
  },
  {
   "cell_type": "code",
   "execution_count": 5,
   "metadata": {},
   "outputs": [
    {
     "name": "stdout",
     "output_type": "stream",
     "text": [
      "mode k: 1\n"
     ]
    },
    {
     "data": {
      "text/plain": [
       "[(25, 32)]"
      ]
     },
     "execution_count": 5,
     "metadata": {},
     "output_type": "execute_result"
    }
   ],
   "source": [
    "# compute MASS algorithm events with static-k heuristics\n",
    "tpass.matrixChangepoints(np_template_b_averaged, np_sensor_data_example, mode=\"statick\", _k=1)"
   ]
  },
  {
   "cell_type": "code",
   "execution_count": 6,
   "metadata": {},
   "outputs": [
    {
     "data": {
      "text/plain": [
       "[(25, 32), (6, 13)]"
      ]
     },
     "execution_count": 6,
     "metadata": {},
     "output_type": "execute_result"
    }
   ],
   "source": [
    "# compute MASS algorithm events with static-t heuristics\n",
    "tpass.matrixChangepoints(np_template_b_averaged, np_sensor_data_example, mode=\"statict\", t=10)"
   ]
  },
  {
   "cell_type": "markdown",
   "metadata": {},
   "source": [
    "### DTW-based algorithm"
   ]
  },
  {
   "cell_type": "code",
   "execution_count": 7,
   "metadata": {},
   "outputs": [
    {
     "data": {
      "text/plain": [
       "[(6, 12, 0.0), (25, 31, 1.0)]"
      ]
     },
     "execution_count": 7,
     "metadata": {},
     "output_type": "execute_result"
    }
   ],
   "source": [
    "# compute DTW-based algorithm events\n",
    "tpass.dtwChangepoints(np_template_b_averaged, np_sensor_data_example, mode=\"dynamic\")"
   ]
  },
  {
   "cell_type": "code",
   "execution_count": null,
   "metadata": {},
   "outputs": [],
   "source": []
  }
 ],
 "metadata": {
  "interpreter": {
   "hash": "2a21e6f2a6ed0e1adeab603bfa660207fd1d3f5844ab1be9de67493213f6d0e1"
  },
  "kernelspec": {
   "display_name": "Python 3.9.7 ('eventlog-inferrence')",
   "language": "python",
   "name": "python3"
  },
  "language_info": {
   "codemirror_mode": {
    "name": "ipython",
    "version": 3
   },
   "file_extension": ".py",
   "mimetype": "text/x-python",
   "name": "python",
   "nbconvert_exporter": "python",
   "pygments_lexer": "ipython3",
   "version": "3.9.7"
  },
  "orig_nbformat": 4
 },
 "nbformat": 4,
 "nbformat_minor": 2
}
